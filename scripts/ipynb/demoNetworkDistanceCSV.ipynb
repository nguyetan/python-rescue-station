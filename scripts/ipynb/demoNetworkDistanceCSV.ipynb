{
 "cells": [
  {
   "cell_type": "code",
   "execution_count": 14,
   "metadata": {},
   "outputs": [
    {
     "name": "stdout",
     "output_type": "stream",
     "text": [
      "Requirement already satisfied: geopandas in c:\\users\\asus\\appdata\\local\\programs\\python\\python312\\lib\\site-packages (0.14.4)\n",
      "Requirement already satisfied: fiona>=1.8.21 in c:\\users\\asus\\appdata\\local\\programs\\python\\python312\\lib\\site-packages (from geopandas) (1.9.6)\n",
      "Requirement already satisfied: numpy>=1.22 in c:\\users\\asus\\appdata\\local\\programs\\python\\python312\\lib\\site-packages (from geopandas) (1.26.4)\n",
      "Requirement already satisfied: packaging in c:\\users\\asus\\appdata\\roaming\\python\\python312\\site-packages (from geopandas) (24.0)\n",
      "Requirement already satisfied: pandas>=1.4.0 in c:\\users\\asus\\appdata\\local\\programs\\python\\python312\\lib\\site-packages (from geopandas) (2.2.2)\n",
      "Requirement already satisfied: pyproj>=3.3.0 in c:\\users\\asus\\appdata\\local\\programs\\python\\python312\\lib\\site-packages (from geopandas) (3.6.1)\n",
      "Requirement already satisfied: shapely>=1.8.0 in c:\\users\\asus\\appdata\\local\\programs\\python\\python312\\lib\\site-packages (from geopandas) (2.0.4)\n",
      "Requirement already satisfied: attrs>=19.2.0 in c:\\users\\asus\\appdata\\local\\programs\\python\\python312\\lib\\site-packages (from fiona>=1.8.21->geopandas) (23.2.0)\n",
      "Requirement already satisfied: certifi in c:\\users\\asus\\appdata\\local\\programs\\python\\python312\\lib\\site-packages (from fiona>=1.8.21->geopandas) (2024.2.2)\n",
      "Requirement already satisfied: click~=8.0 in c:\\users\\asus\\appdata\\local\\programs\\python\\python312\\lib\\site-packages (from fiona>=1.8.21->geopandas) (8.1.7)\n",
      "Requirement already satisfied: click-plugins>=1.0 in c:\\users\\asus\\appdata\\local\\programs\\python\\python312\\lib\\site-packages (from fiona>=1.8.21->geopandas) (1.1.1)\n",
      "Requirement already satisfied: cligj>=0.5 in c:\\users\\asus\\appdata\\local\\programs\\python\\python312\\lib\\site-packages (from fiona>=1.8.21->geopandas) (0.7.2)\n",
      "Requirement already satisfied: six in c:\\users\\asus\\appdata\\roaming\\python\\python312\\site-packages (from fiona>=1.8.21->geopandas) (1.16.0)\n",
      "Requirement already satisfied: python-dateutil>=2.8.2 in c:\\users\\asus\\appdata\\roaming\\python\\python312\\site-packages (from pandas>=1.4.0->geopandas) (2.9.0.post0)\n",
      "Requirement already satisfied: pytz>=2020.1 in c:\\users\\asus\\appdata\\local\\programs\\python\\python312\\lib\\site-packages (from pandas>=1.4.0->geopandas) (2024.1)\n",
      "Requirement already satisfied: tzdata>=2022.7 in c:\\users\\asus\\appdata\\local\\programs\\python\\python312\\lib\\site-packages (from pandas>=1.4.0->geopandas) (2024.1)\n",
      "Requirement already satisfied: colorama in c:\\users\\asus\\appdata\\roaming\\python\\python312\\site-packages (from click~=8.0->fiona>=1.8.21->geopandas) (0.4.6)\n",
      "Requirement already satisfied: pulp in c:\\users\\asus\\appdata\\local\\programs\\python\\python312\\lib\\site-packages (2.8.0)\n",
      "Requirement already satisfied: spopt in c:\\users\\asus\\appdata\\local\\programs\\python\\python312\\lib\\site-packages (0.6.0)\n",
      "Requirement already satisfied: geopandas>=0.12 in c:\\users\\asus\\appdata\\local\\programs\\python\\python312\\lib\\site-packages (from spopt) (0.14.4)\n",
      "Requirement already satisfied: libpysal>=4.6 in c:\\users\\asus\\appdata\\local\\programs\\python\\python312\\lib\\site-packages (from spopt) (4.10)\n",
      "Requirement already satisfied: mapclassify>=2.5 in c:\\users\\asus\\appdata\\local\\programs\\python\\python312\\lib\\site-packages (from spopt) (2.6.1)\n",
      "Requirement already satisfied: networkx>=2.7 in c:\\users\\asus\\appdata\\local\\programs\\python\\python312\\lib\\site-packages (from spopt) (3.3)\n",
      "Requirement already satisfied: numpy>=1.22 in c:\\users\\asus\\appdata\\local\\programs\\python\\python312\\lib\\site-packages (from spopt) (1.26.4)\n",
      "Requirement already satisfied: pandas!=1.5.0,>=1.4 in c:\\users\\asus\\appdata\\local\\programs\\python\\python312\\lib\\site-packages (from spopt) (2.2.2)\n",
      "Requirement already satisfied: pulp>=2.7 in c:\\users\\asus\\appdata\\local\\programs\\python\\python312\\lib\\site-packages (from spopt) (2.8.0)\n",
      "Requirement already satisfied: scikit-learn>=1.1 in c:\\users\\asus\\appdata\\local\\programs\\python\\python312\\lib\\site-packages (from spopt) (1.4.2)\n",
      "Requirement already satisfied: scipy>=1.8 in c:\\users\\asus\\appdata\\local\\programs\\python\\python312\\lib\\site-packages (from spopt) (1.13.0)\n",
      "Requirement already satisfied: shapely>=2.0.1 in c:\\users\\asus\\appdata\\local\\programs\\python\\python312\\lib\\site-packages (from spopt) (2.0.4)\n",
      "Requirement already satisfied: spaghetti>=1.6.4 in c:\\users\\asus\\appdata\\local\\programs\\python\\python312\\lib\\site-packages (from spopt) (1.7.5.post1)\n",
      "Requirement already satisfied: tqdm>=4.63.0 in c:\\users\\asus\\appdata\\local\\programs\\python\\python312\\lib\\site-packages (from spopt) (4.66.4)\n",
      "Requirement already satisfied: pointpats>=2.3.0 in c:\\users\\asus\\appdata\\local\\programs\\python\\python312\\lib\\site-packages (from spopt) (2.4.0)\n",
      "Requirement already satisfied: fiona>=1.8.21 in c:\\users\\asus\\appdata\\local\\programs\\python\\python312\\lib\\site-packages (from geopandas>=0.12->spopt) (1.9.6)\n",
      "Requirement already satisfied: packaging in c:\\users\\asus\\appdata\\roaming\\python\\python312\\site-packages (from geopandas>=0.12->spopt) (24.0)\n",
      "Requirement already satisfied: pyproj>=3.3.0 in c:\\users\\asus\\appdata\\local\\programs\\python\\python312\\lib\\site-packages (from geopandas>=0.12->spopt) (3.6.1)\n",
      "Requirement already satisfied: beautifulsoup4>=4.10 in c:\\users\\asus\\appdata\\local\\programs\\python\\python312\\lib\\site-packages (from libpysal>=4.6->spopt) (4.12.3)\n",
      "Requirement already satisfied: platformdirs>=2.0.2 in c:\\users\\asus\\appdata\\roaming\\python\\python312\\site-packages (from libpysal>=4.6->spopt) (4.2.1)\n",
      "Requirement already satisfied: requests>=2.27 in c:\\users\\asus\\appdata\\local\\programs\\python\\python312\\lib\\site-packages (from libpysal>=4.6->spopt) (2.31.0)\n",
      "Requirement already satisfied: python-dateutil>=2.8.2 in c:\\users\\asus\\appdata\\roaming\\python\\python312\\site-packages (from pandas!=1.5.0,>=1.4->spopt) (2.9.0.post0)\n",
      "Requirement already satisfied: pytz>=2020.1 in c:\\users\\asus\\appdata\\local\\programs\\python\\python312\\lib\\site-packages (from pandas!=1.5.0,>=1.4->spopt) (2024.1)\n",
      "Requirement already satisfied: tzdata>=2022.7 in c:\\users\\asus\\appdata\\local\\programs\\python\\python312\\lib\\site-packages (from pandas!=1.5.0,>=1.4->spopt) (2024.1)\n",
      "Requirement already satisfied: matplotlib in c:\\users\\asus\\appdata\\local\\programs\\python\\python312\\lib\\site-packages (from pointpats>=2.3.0->spopt) (3.9.0)\n",
      "Requirement already satisfied: joblib>=1.2.0 in c:\\users\\asus\\appdata\\local\\programs\\python\\python312\\lib\\site-packages (from scikit-learn>=1.1->spopt) (1.4.2)\n",
      "Requirement already satisfied: threadpoolctl>=2.0.0 in c:\\users\\asus\\appdata\\local\\programs\\python\\python312\\lib\\site-packages (from scikit-learn>=1.1->spopt) (3.5.0)\n",
      "Requirement already satisfied: esda>=2.1 in c:\\users\\asus\\appdata\\local\\programs\\python\\python312\\lib\\site-packages (from spaghetti>=1.6.4->spopt) (2.5.1)\n",
      "Requirement already satisfied: rtree>=1.0 in c:\\users\\asus\\appdata\\local\\programs\\python\\python312\\lib\\site-packages (from spaghetti>=1.6.4->spopt) (1.2.0)\n",
      "Requirement already satisfied: colorama in c:\\users\\asus\\appdata\\roaming\\python\\python312\\site-packages (from tqdm>=4.63.0->spopt) (0.4.6)\n",
      "Requirement already satisfied: soupsieve>1.2 in c:\\users\\asus\\appdata\\local\\programs\\python\\python312\\lib\\site-packages (from beautifulsoup4>=4.10->libpysal>=4.6->spopt) (2.5)\n",
      "Requirement already satisfied: attrs>=19.2.0 in c:\\users\\asus\\appdata\\local\\programs\\python\\python312\\lib\\site-packages (from fiona>=1.8.21->geopandas>=0.12->spopt) (23.2.0)\n",
      "Requirement already satisfied: certifi in c:\\users\\asus\\appdata\\local\\programs\\python\\python312\\lib\\site-packages (from fiona>=1.8.21->geopandas>=0.12->spopt) (2024.2.2)\n",
      "Requirement already satisfied: click~=8.0 in c:\\users\\asus\\appdata\\local\\programs\\python\\python312\\lib\\site-packages (from fiona>=1.8.21->geopandas>=0.12->spopt) (8.1.7)\n",
      "Requirement already satisfied: click-plugins>=1.0 in c:\\users\\asus\\appdata\\local\\programs\\python\\python312\\lib\\site-packages (from fiona>=1.8.21->geopandas>=0.12->spopt) (1.1.1)\n",
      "Requirement already satisfied: cligj>=0.5 in c:\\users\\asus\\appdata\\local\\programs\\python\\python312\\lib\\site-packages (from fiona>=1.8.21->geopandas>=0.12->spopt) (0.7.2)\n",
      "Requirement already satisfied: six in c:\\users\\asus\\appdata\\roaming\\python\\python312\\site-packages (from fiona>=1.8.21->geopandas>=0.12->spopt) (1.16.0)\n",
      "Requirement already satisfied: charset-normalizer<4,>=2 in c:\\users\\asus\\appdata\\local\\programs\\python\\python312\\lib\\site-packages (from requests>=2.27->libpysal>=4.6->spopt) (3.3.2)\n",
      "Requirement already satisfied: idna<4,>=2.5 in c:\\users\\asus\\appdata\\local\\programs\\python\\python312\\lib\\site-packages (from requests>=2.27->libpysal>=4.6->spopt) (3.7)\n",
      "Requirement already satisfied: urllib3<3,>=1.21.1 in c:\\users\\asus\\appdata\\local\\programs\\python\\python312\\lib\\site-packages (from requests>=2.27->libpysal>=4.6->spopt) (2.2.1)\n",
      "Requirement already satisfied: contourpy>=1.0.1 in c:\\users\\asus\\appdata\\local\\programs\\python\\python312\\lib\\site-packages (from matplotlib->pointpats>=2.3.0->spopt) (1.2.1)\n",
      "Requirement already satisfied: cycler>=0.10 in c:\\users\\asus\\appdata\\local\\programs\\python\\python312\\lib\\site-packages (from matplotlib->pointpats>=2.3.0->spopt) (0.12.1)\n",
      "Requirement already satisfied: fonttools>=4.22.0 in c:\\users\\asus\\appdata\\local\\programs\\python\\python312\\lib\\site-packages (from matplotlib->pointpats>=2.3.0->spopt) (4.51.0)\n",
      "Requirement already satisfied: kiwisolver>=1.3.1 in c:\\users\\asus\\appdata\\local\\programs\\python\\python312\\lib\\site-packages (from matplotlib->pointpats>=2.3.0->spopt) (1.4.5)\n",
      "Requirement already satisfied: pillow>=8 in c:\\users\\asus\\appdata\\local\\programs\\python\\python312\\lib\\site-packages (from matplotlib->pointpats>=2.3.0->spopt) (10.3.0)\n",
      "Requirement already satisfied: pyparsing>=2.3.1 in c:\\users\\asus\\appdata\\local\\programs\\python\\python312\\lib\\site-packages (from matplotlib->pointpats>=2.3.0->spopt) (3.1.2)\n"
     ]
    },
    {
     "name": "stderr",
     "output_type": "stream",
     "text": [
      "ERROR: Could not find a version that satisfies the requirement coinor-cbc (from versions: none)\n",
      "ERROR: No matching distribution found for coinor-cbc\n"
     ]
    },
    {
     "name": "stdout",
     "output_type": "stream",
     "text": [
      "Requirement already satisfied: matplotlib-scalebar in c:\\users\\asus\\appdata\\local\\programs\\python\\python312\\lib\\site-packages (0.8.1)\n",
      "Requirement already satisfied: matplotlib in c:\\users\\asus\\appdata\\local\\programs\\python\\python312\\lib\\site-packages (from matplotlib-scalebar) (3.9.0)\n",
      "Requirement already satisfied: contourpy>=1.0.1 in c:\\users\\asus\\appdata\\local\\programs\\python\\python312\\lib\\site-packages (from matplotlib->matplotlib-scalebar) (1.2.1)\n",
      "Requirement already satisfied: cycler>=0.10 in c:\\users\\asus\\appdata\\local\\programs\\python\\python312\\lib\\site-packages (from matplotlib->matplotlib-scalebar) (0.12.1)\n",
      "Requirement already satisfied: fonttools>=4.22.0 in c:\\users\\asus\\appdata\\local\\programs\\python\\python312\\lib\\site-packages (from matplotlib->matplotlib-scalebar) (4.51.0)\n",
      "Requirement already satisfied: kiwisolver>=1.3.1 in c:\\users\\asus\\appdata\\local\\programs\\python\\python312\\lib\\site-packages (from matplotlib->matplotlib-scalebar) (1.4.5)\n",
      "Requirement already satisfied: numpy>=1.23 in c:\\users\\asus\\appdata\\local\\programs\\python\\python312\\lib\\site-packages (from matplotlib->matplotlib-scalebar) (1.26.4)\n",
      "Requirement already satisfied: packaging>=20.0 in c:\\users\\asus\\appdata\\roaming\\python\\python312\\site-packages (from matplotlib->matplotlib-scalebar) (24.0)\n",
      "Requirement already satisfied: pillow>=8 in c:\\users\\asus\\appdata\\local\\programs\\python\\python312\\lib\\site-packages (from matplotlib->matplotlib-scalebar) (10.3.0)\n",
      "Requirement already satisfied: pyparsing>=2.3.1 in c:\\users\\asus\\appdata\\local\\programs\\python\\python312\\lib\\site-packages (from matplotlib->matplotlib-scalebar) (3.1.2)\n",
      "Requirement already satisfied: python-dateutil>=2.7 in c:\\users\\asus\\appdata\\roaming\\python\\python312\\site-packages (from matplotlib->matplotlib-scalebar) (2.9.0.post0)\n",
      "Requirement already satisfied: six>=1.5 in c:\\users\\asus\\appdata\\roaming\\python\\python312\\site-packages (from python-dateutil>=2.7->matplotlib->matplotlib-scalebar) (1.16.0)\n"
     ]
    }
   ],
   "source": [
    "! pip install geopandas\n",
    "! pip install pulp\n",
    "! pip install spopt\n",
    "! pip install coinor-cbc\n",
    "! pip install matplotlib-scalebar"
   ]
  },
  {
   "cell_type": "code",
   "execution_count": 15,
   "metadata": {},
   "outputs": [
    {
     "name": "stdout",
     "output_type": "stream",
     "text": [
      "The watermark extension is already loaded. To reload it, use:\n",
      "  %reload_ext watermark\n",
      "Last updated: 2024-07-04T17:20:57.492587+07:00\n",
      "\n",
      "Python implementation: CPython\n",
      "Python version       : 3.12.3\n",
      "IPython version      : 8.24.0\n",
      "\n",
      "Compiler    : MSC v.1938 64 bit (AMD64)\n",
      "OS          : Windows\n",
      "Release     : 11\n",
      "Machine     : AMD64\n",
      "Processor   : Intel64 Family 6 Model 140 Stepping 1, GenuineIntel\n",
      "CPU cores   : 8\n",
      "Architecture: 64bit\n",
      "\n"
     ]
    }
   ],
   "source": [
    "%config InlineBackend.figure_format = \"retina\"\n",
    "%load_ext watermark\n",
    "%watermark\n",
    "\n",
    "import warnings\n",
    "warnings.filterwarnings(\"ignore\", category=UserWarning)"
   ]
  },
  {
   "cell_type": "code",
   "execution_count": 16,
   "metadata": {},
   "outputs": [
    {
     "name": "stdout",
     "output_type": "stream",
     "text": [
      "Watermark: 2.4.3\n",
      "\n",
      "matplotlib         : 3.9.0\n",
      "pulp               : 2.8.0\n",
      "spaghetti          : 1.7.5.post1\n",
      "shapely            : 2.0.4\n",
      "numpy              : 1.26.4\n",
      "pandas             : 2.2.2\n",
      "spopt              : 0.6.0\n",
      "networkx           : 3.3\n",
      "matplotlib_scalebar: 0.8.1\n",
      "geopandas          : 0.14.4\n",
      "\n"
     ]
    }
   ],
   "source": [
    "import pandas as pd\n",
    "import networkx as nx\n",
    "import geopandas\n",
    "import matplotlib.pyplot as plt\n",
    "from matplotlib.patches import Patch\n",
    "import matplotlib.lines as mlines\n",
    "import matplotlib_scalebar\n",
    "from matplotlib_scalebar.scalebar import ScaleBar\n",
    "from shapely.geometry import Point\n",
    "import time\n",
    "import numpy as np\n",
    "import pulp\n",
    "import shapely\n",
    "import spopt\n",
    "from spopt.locate import PCenter, simulated_geo_points\n",
    "\n",
    "import warnings\n",
    "with warnings.catch_warnings():\n",
    "    warnings.simplefilter(\"ignore\")\n",
    "    # ignore deprecation warning - GH pysal/spaghetti#649\n",
    "    import spaghetti\n",
    "\n",
    "%watermark -w\n",
    "%watermark -iv"
   ]
  },
  {
   "cell_type": "code",
   "execution_count": 17,
   "metadata": {},
   "outputs": [
    {
     "data": {
      "text/html": [
       "<div>\n",
       "<style scoped>\n",
       "    .dataframe tbody tr th:only-of-type {\n",
       "        vertical-align: middle;\n",
       "    }\n",
       "\n",
       "    .dataframe tbody tr th {\n",
       "        vertical-align: top;\n",
       "    }\n",
       "\n",
       "    .dataframe thead th {\n",
       "        text-align: right;\n",
       "    }\n",
       "</style>\n",
       "<table border=\"1\" class=\"dataframe\">\n",
       "  <thead>\n",
       "    <tr style=\"text-align: right;\">\n",
       "      <th></th>\n",
       "      <th>FID_Thuyhe</th>\n",
       "      <th>Id</th>\n",
       "      <th>FromPoint</th>\n",
       "      <th>ToPoint</th>\n",
       "      <th>chieudai</th>\n",
       "    </tr>\n",
       "  </thead>\n",
       "  <tbody>\n",
       "    <tr>\n",
       "      <th>0</th>\n",
       "      <td>1</td>\n",
       "      <td>1</td>\n",
       "      <td>0</td>\n",
       "      <td>1</td>\n",
       "      <td>10.000000</td>\n",
       "    </tr>\n",
       "    <tr>\n",
       "      <th>1</th>\n",
       "      <td>1</td>\n",
       "      <td>2</td>\n",
       "      <td>1</td>\n",
       "      <td>2</td>\n",
       "      <td>10.000000</td>\n",
       "    </tr>\n",
       "    <tr>\n",
       "      <th>2</th>\n",
       "      <td>1</td>\n",
       "      <td>3</td>\n",
       "      <td>2</td>\n",
       "      <td>3</td>\n",
       "      <td>10.000000</td>\n",
       "    </tr>\n",
       "    <tr>\n",
       "      <th>3</th>\n",
       "      <td>1</td>\n",
       "      <td>4</td>\n",
       "      <td>3</td>\n",
       "      <td>4</td>\n",
       "      <td>10.000000</td>\n",
       "    </tr>\n",
       "    <tr>\n",
       "      <th>4</th>\n",
       "      <td>1</td>\n",
       "      <td>5</td>\n",
       "      <td>4</td>\n",
       "      <td>5</td>\n",
       "      <td>10.000000</td>\n",
       "    </tr>\n",
       "    <tr>\n",
       "      <th>...</th>\n",
       "      <td>...</td>\n",
       "      <td>...</td>\n",
       "      <td>...</td>\n",
       "      <td>...</td>\n",
       "      <td>...</td>\n",
       "    </tr>\n",
       "    <tr>\n",
       "      <th>9840</th>\n",
       "      <td>1</td>\n",
       "      <td>9841</td>\n",
       "      <td>9841</td>\n",
       "      <td>9842</td>\n",
       "      <td>10.000000</td>\n",
       "    </tr>\n",
       "    <tr>\n",
       "      <th>9841</th>\n",
       "      <td>1</td>\n",
       "      <td>9842</td>\n",
       "      <td>9842</td>\n",
       "      <td>9843</td>\n",
       "      <td>10.000000</td>\n",
       "    </tr>\n",
       "    <tr>\n",
       "      <th>9842</th>\n",
       "      <td>1</td>\n",
       "      <td>9843</td>\n",
       "      <td>9843</td>\n",
       "      <td>9844</td>\n",
       "      <td>10.000000</td>\n",
       "    </tr>\n",
       "    <tr>\n",
       "      <th>9843</th>\n",
       "      <td>1</td>\n",
       "      <td>9844</td>\n",
       "      <td>9844</td>\n",
       "      <td>9845</td>\n",
       "      <td>5.120352</td>\n",
       "    </tr>\n",
       "    <tr>\n",
       "      <th>9844</th>\n",
       "      <td>1</td>\n",
       "      <td>9845</td>\n",
       "      <td>9845</td>\n",
       "      <td>7119</td>\n",
       "      <td>10.000000</td>\n",
       "    </tr>\n",
       "  </tbody>\n",
       "</table>\n",
       "<p>9845 rows × 5 columns</p>\n",
       "</div>"
      ],
      "text/plain": [
       "      FID_Thuyhe    Id  FromPoint  ToPoint   chieudai\n",
       "0              1     1          0        1  10.000000\n",
       "1              1     2          1        2  10.000000\n",
       "2              1     3          2        3  10.000000\n",
       "3              1     4          3        4  10.000000\n",
       "4              1     5          4        5  10.000000\n",
       "...          ...   ...        ...      ...        ...\n",
       "9840           1  9841       9841     9842  10.000000\n",
       "9841           1  9842       9842     9843  10.000000\n",
       "9842           1  9843       9843     9844  10.000000\n",
       "9843           1  9844       9844     9845   5.120352\n",
       "9844           1  9845       9845     7119  10.000000\n",
       "\n",
       "[9845 rows x 5 columns]"
      ]
     },
     "execution_count": 17,
     "metadata": {},
     "output_type": "execute_result"
    }
   ],
   "source": [
    "data = pd.read_csv('C:/Users/ASUS/Downloads/rescue_station_project/data/csv/Thuyhe_HCM_motphan_test_graph.csv')\n",
    "# data.head(6)\n",
    "data"
   ]
  },
  {
   "cell_type": "code",
   "execution_count": 18,
   "metadata": {},
   "outputs": [
    {
     "name": "stdout",
     "output_type": "stream",
     "text": [
      "      FID_Thuyhe    Id  FromPoint  ToPoint   chieudai\n",
      "0              1     1          0        1  10.000000\n",
      "1              1     2          1        2  10.000000\n",
      "2              1     3          2        3  10.000000\n",
      "3              1     4          3        4  10.000000\n",
      "4              1     5          4        5  10.000000\n",
      "...          ...   ...        ...      ...        ...\n",
      "9840           1  9841       9841     9842  10.000000\n",
      "9841           1  9842       9842     9843  10.000000\n",
      "9842           1  9843       9843     9844  10.000000\n",
      "9843           1  9844       9844     9845   5.120352\n",
      "9844           1  9845       9845     7119  10.000000\n",
      "\n",
      "[9845 rows x 5 columns]\n"
     ]
    }
   ],
   "source": [
    "df_rows = data.iloc[:9845]\n",
    "\n",
    "# Hiển thị kết quả\n",
    "print(df_rows)"
   ]
  },
  {
   "cell_type": "code",
   "execution_count": 19,
   "metadata": {},
   "outputs": [
    {
     "name": "stdout",
     "output_type": "stream",
     "text": [
      "        Id  FromPoint  ToPoint   chieudai\n",
      "0        1          0        1  10.000000\n",
      "1        2          1        2  10.000000\n",
      "2        3          2        3  10.000000\n",
      "3        4          3        4  10.000000\n",
      "4        5          4        5  10.000000\n",
      "...    ...        ...      ...        ...\n",
      "9840  9841       9841     9842  10.000000\n",
      "9841  9842       9842     9843  10.000000\n",
      "9842  9843       9843     9844  10.000000\n",
      "9843  9844       9844     9845   5.120352\n",
      "9844  9845       9845     7119  10.000000\n",
      "\n",
      "[9845 rows x 4 columns]\n"
     ]
    }
   ],
   "source": [
    "# Chọn 3 cột và sắp xếp lại thứ tự cột\n",
    "df_selected = df_rows[['Id', 'FromPoint', 'ToPoint', 'chieudai']]\n",
    "\n",
    "# Đổi tên các cột\n",
    "#df_selected.columns = ['distance', 'name', 'DestinationName']\n",
    "\n",
    "# Hiển thị kết quả\n",
    "print(df_selected)"
   ]
  },
  {
   "cell_type": "code",
   "execution_count": 20,
   "metadata": {},
   "outputs": [
    {
     "name": "stdout",
     "output_type": "stream",
     "text": [
      "      Id  FromPoint  ToPoint  chieudai\n",
      "99   100         99      100      10.0\n",
      "100  101        100      101      10.0\n",
      "101  102        101      102      10.0\n",
      "102  103        102      103      10.0\n",
      "103  104        103      104      10.0\n",
      "104  105        104      105      10.0\n",
      "105  106        105      106      10.0\n",
      "106  107        106      107      10.0\n",
      "107  108        107      108      10.0\n",
      "108  109        108      109      10.0\n",
      "109  110        109      110      10.0\n",
      "110  111        110      111      10.0\n",
      "111  112        111      112      10.0\n",
      "112  113        112      113      10.0\n",
      "113  114        113      114      10.0\n",
      "114  115        114      115      10.0\n",
      "115  116        115      116      10.0\n",
      "116  117        116      117      10.0\n",
      "117  118        117      118      10.0\n",
      "118  119        118      119      10.0\n",
      "119  120        119      120      10.0\n"
     ]
    }
   ],
   "source": [
    "# Nhập id x và id y từ người dùng\n",
    "x = int(input(\"Nhập id x: \"))\n",
    "y = int(input(\"Nhập id y: \"))\n",
    "\n",
    "# Lọc ra các dòng có Id nằm trong khoảng từ id x đến id y\n",
    "filtered_df = df_selected[(df_selected['Id'] >= x) & (df_selected['Id'] <= y)]\n",
    "\n",
    "# In ra DataFrame mới\n",
    "print(filtered_df)\n",
    "\n",
    "\n",
    "#note 1 => chỉnh code cho phép nhập id để chọn ra vùng cần tính\n",
    "#note 2 => cho chọn cạnh trực tiếp trên hình, lọc id để chọn ra vùng cần tính"
   ]
  },
  {
   "cell_type": "code",
   "execution_count": 21,
   "metadata": {},
   "outputs": [
    {
     "name": "stdout",
     "output_type": "stream",
     "text": [
      "      Id  FromPoint  ToPoint  chieudai  net_length\n",
      "99   100         99      100      10.0       210.0\n",
      "100  101        100      101      10.0         0.0\n",
      "101  102        101      102      10.0         0.0\n",
      "102  103        102      103      10.0         0.0\n",
      "103  104        103      104      10.0         0.0\n",
      "104  105        104      105      10.0         0.0\n",
      "105  106        105      106      10.0         0.0\n",
      "106  107        106      107      10.0         0.0\n",
      "107  108        107      108      10.0         0.0\n",
      "108  109        108      109      10.0         0.0\n",
      "109  110        109      110      10.0         0.0\n",
      "110  111        110      111      10.0         0.0\n",
      "111  112        111      112      10.0         0.0\n",
      "112  113        112      113      10.0         0.0\n",
      "113  114        113      114      10.0         0.0\n",
      "114  115        114      115      10.0         0.0\n",
      "115  116        115      116      10.0         0.0\n",
      "116  117        116      117      10.0         0.0\n",
      "117  118        117      118      10.0         0.0\n",
      "118  119        118      119      10.0         0.0\n",
      "119  120        119      120      10.0         0.0\n"
     ]
    }
   ],
   "source": [
    "# Tạo một bản sao độc lập của DataFrame filtered_df\n",
    "filtered_df_copy = filtered_df.copy()\n",
    "\n",
    "# Tính tổng của cột 'chieudai'\n",
    "net_length_value = filtered_df_copy['chieudai'].sum()\n",
    "\n",
    "# Gán giá trị của tổng vào cột 'net_length' của hàng đầu tiên\n",
    "filtered_df_copy.loc[filtered_df_copy.index[0], 'net_length'] = net_length_value\n",
    "\n",
    "# Gán giá trị NaN cho các hàng còn lại của cột 'net_length'\n",
    "filtered_df_copy.loc[filtered_df_copy.index[1:], 'net_length'] = float('0')\n",
    "\n",
    "# In ra DataFrame mới có cột 'net_length'\n",
    "print(filtered_df_copy)\n"
   ]
  },
  {
   "cell_type": "code",
   "execution_count": 22,
   "metadata": {},
   "outputs": [
    {
     "name": "stdout",
     "output_type": "stream",
     "text": [
      "     FromPoint  ToPoint  chieudai\n",
      "0           99      100      10.0\n",
      "1           99      101      20.0\n",
      "2           99      102      30.0\n",
      "3           99      103      40.0\n",
      "4           99      104      50.0\n",
      "..         ...      ...       ...\n",
      "416        119      115      40.0\n",
      "417        119      116      30.0\n",
      "418        119      117      20.0\n",
      "419        119      118      10.0\n",
      "420        119      120      10.0\n",
      "\n",
      "[421 rows x 3 columns]\n"
     ]
    }
   ],
   "source": [
    "# Tạo đồ thị từ dataframe\n",
    "G = nx.from_pandas_edgelist(filtered_df, 'FromPoint', 'ToPoint', ['chieudai'])\n",
    "\n",
    "# Tính toán khoảng cách giữa các cặp đỉnh\n",
    "distances = []\n",
    "\n",
    "for source in filtered_df['FromPoint']:\n",
    "    for target in filtered_df['ToPoint']:\n",
    "        if source != target:\n",
    "            distance = nx.shortest_path_length(G, source=source, target=target, weight='chieudai')\n",
    "            distances.append({'FromPoint': source, 'ToPoint': target, 'chieudai': distance})\n",
    "\n",
    "# Tạo dataframe từ kết quả\n",
    "distance_df = pd.DataFrame(distances)\n",
    "\n",
    "print(distance_df)\n"
   ]
  },
  {
   "cell_type": "code",
   "execution_count": 23,
   "metadata": {},
   "outputs": [
    {
     "name": "stdout",
     "output_type": "stream",
     "text": [
      "     FromPoint  ToPoint  chieudai\n",
      "0           99      100      10.0\n",
      "1          100      101      10.0\n",
      "2          101      102      10.0\n",
      "3          102      103      10.0\n",
      "4          103      104      10.0\n",
      "..         ...      ...       ...\n",
      "437        119      115      40.0\n",
      "438        119      116      30.0\n",
      "439        119      117      20.0\n",
      "440        119      118      10.0\n",
      "441        119      120      10.0\n",
      "\n",
      "[442 rows x 3 columns]\n"
     ]
    }
   ],
   "source": [
    "# Trộn các kết quả vào chung 3 cột chieudai, FromPoint, ToPoint\n",
    "merged_df = pd.concat([filtered_df[['FromPoint', 'ToPoint', 'chieudai']], distance_df])\n",
    "\n",
    "# Reset index để tránh index trùng lặp\n",
    "merged_df.reset_index(drop=True, inplace=True)\n",
    "\n",
    "# Hiển thị kết quả\n",
    "print(merged_df)\n"
   ]
  },
  {
   "cell_type": "code",
   "execution_count": 24,
   "metadata": {},
   "outputs": [
    {
     "name": "stdout",
     "output_type": "stream",
     "text": [
      "     StartPoint  EndPoint  Distance\n",
      "0            99       100      10.0\n",
      "1           100       101      10.0\n",
      "2           101       102      10.0\n",
      "3           102       103      10.0\n",
      "4           103       104      10.0\n",
      "..          ...       ...       ...\n",
      "437         119       115      40.0\n",
      "438         119       116      30.0\n",
      "439         119       117      20.0\n",
      "440         119       118      10.0\n",
      "441         119       120      10.0\n",
      "\n",
      "[442 rows x 3 columns]\n"
     ]
    }
   ],
   "source": [
    "# Đổi tên các cột\n",
    "df = merged_df.rename(columns={\"FromPoint\": \"StartPoint\", \"ToPoint\": \"EndPoint\", \"chieudai\": \"Distance\"})\n",
    "\n",
    "print(df)"
   ]
  },
  {
   "cell_type": "code",
   "execution_count": 25,
   "metadata": {},
   "outputs": [
    {
     "name": "stdout",
     "output_type": "stream",
     "text": [
      "     StartPoint  EndPoint  Distance  net_length\n",
      "0            99       100      10.0       210.0\n",
      "1           100       101      10.0         0.0\n",
      "2           101       102      10.0         0.0\n",
      "3           102       103      10.0         0.0\n",
      "4           103       104      10.0         0.0\n",
      "..          ...       ...       ...         ...\n",
      "437         119       115      40.0         0.0\n",
      "438         119       116      30.0         0.0\n",
      "439         119       117      20.0         0.0\n",
      "440         119       118      10.0         0.0\n",
      "441         119       120      10.0         0.0\n",
      "\n",
      "[442 rows x 4 columns]\n"
     ]
    }
   ],
   "source": [
    "# Thêm cột 'net_length' vào DataFrame 2\n",
    "df['net_length'] = 0.0  # Khởi tạo cột với giá trị 0\n",
    "df.loc[0, 'net_length'] = net_length_value  # Gán giá trị của tổng vào hàng đầu tiên\n",
    "\n",
    "# In ra DataFrame mới có cột 'net_length'\n",
    "print(df)"
   ]
  },
  {
   "cell_type": "code",
   "execution_count": 26,
   "metadata": {},
   "outputs": [
    {
     "name": "stdout",
     "output_type": "stream",
     "text": [
      "File CSV đã được lưu thành công vào thư mục: C:/Users/ASUS/Downloads/rescue_station_project/data/csv\n"
     ]
    }
   ],
   "source": [
    "import os\n",
    "\n",
    "# Đường dẫn đến thư mục\n",
    "folder_path = r'C:/Users/ASUS/Downloads/rescue_station_project/data/csv'\n",
    "\n",
    "# Kiểm tra nếu thư mục không tồn tại, tạo mới\n",
    "if not os.path.exists(folder_path):\n",
    "    os.makedirs(folder_path)\n",
    "\n",
    "# Tạo đường dẫn đến file CSV trong thư mục\n",
    "file_path = os.path.join(folder_path, 'network_distance.csv')\n",
    "\n",
    "# Lưu dataframe thành file CSV\n",
    "df.to_csv(file_path, index=False)\n",
    "\n",
    "# Hiển thị kết quả\n",
    "print(\"File CSV đã được lưu thành công vào thư mục:\", folder_path)"
   ]
  }
 ],
 "metadata": {
  "kernelspec": {
   "display_name": "Python 3",
   "language": "python",
   "name": "python3"
  },
  "language_info": {
   "codemirror_mode": {
    "name": "ipython",
    "version": 3
   },
   "file_extension": ".py",
   "mimetype": "text/x-python",
   "name": "python",
   "nbconvert_exporter": "python",
   "pygments_lexer": "ipython3",
   "version": "3.12.3"
  }
 },
 "nbformat": 4,
 "nbformat_minor": 2
}
